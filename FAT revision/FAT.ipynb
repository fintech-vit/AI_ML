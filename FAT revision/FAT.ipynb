{
 "cells": [
  {
   "cell_type": "markdown",
   "id": "d852b522",
   "metadata": {},
   "source": [
    "### **Question 1: Breast Cancer Detection**\n",
    "\n",
    "**Dataset:** `breast_cancer.csv`  \n",
    "This dataset includes diagnostic measurements for breast cancer and whether the tumor is malignant or benign.\n",
    "\n",
    "**Columns include (abbreviated):**  \n",
    "- ID  \n",
    "- Diagnosis (M = Malignant, B = Benign)  \n",
    "- Radius, Texture, Perimeter, Area, etc. (various mean values)  \n",
    "- ... and other features  \n",
    "- Target (0 for benign, 1 for malignant – can be derived from 'Diagnosis')\n",
    "\n",
    "**Tasks (Total: 10 Marks):**\n",
    "1. Load the dataset using pandas and display the first five rows. (2 Marks)  \n",
    "2. Display the count of benign and malignant tumors. (2 Marks)  \n",
    "3. Visualize the distribution of the mean radius using a histogram (matplotlib). (2 Marks)  \n",
    "4. Train a Logistic Regression model to classify tumors as benign or malignant using relevant features. (3 Marks)  \n",
    "5. Evaluate the model using accuracy score and print the result. (1 Mark)  \n",
    "\n",
    "---\n",
    "\n"
   ]
  },
  {
   "cell_type": "markdown",
   "id": "3cd82162",
   "metadata": {},
   "source": [
    "\n",
    "### **Question 2: Sentiment Analysis on Amazon Product Reviews**\n",
    "\n",
    "**Dataset:** `amazon_reviews.csv`  \n",
    "This dataset contains product reviews from Amazon and their associated sentiment labels.\n",
    "\n",
    "**Columns:**\n",
    "- **Review** → Contains text of the review written by customers  \n",
    "- **Label** → 1 for Positive sentiment, 0 for Negative sentiment\n",
    "\n",
    "---\n",
    "\n",
    "### **Tasks (Total: 10 Marks):**\n",
    "\n",
    "1. **Load the dataset using pandas and display the first five rows.**  \n",
    "   *(2 Marks)*\n",
    "\n",
    "2. **Perform basic text preprocessing, including:**  \n",
    "   - Converting text to lowercase  \n",
    "   - Removing special characters and punctuation  \n",
    "   - Tokenizing words  \n",
    "   *(3 Marks)*\n",
    "\n",
    "3. **Convert the text into numerical form using TF-IDF Vectorization.**  \n",
    "   *(2 Marks)*\n",
    "\n",
    "4. **Train a Logistic Regression model to classify sentiment (Positive/Negative).**  \n",
    "   *(2 Marks)*\n",
    "\n",
    "5. **Evaluate the model using accuracy score and print the result.**  \n",
    "   *(1 Mark)*\n",
    "\n",
    "---\n",
    "\n",
    "Let me know if you’d like a sample implementation or need help getting the dataset."
   ]
  },
  {
   "cell_type": "markdown",
   "id": "85eb0135",
   "metadata": {},
   "source": [
    "## Question 3\n",
    "- Explain How you will improve the performance of Linear Regression"
   ]
  },
  {
   "cell_type": "markdown",
   "id": "8348289f",
   "metadata": {},
   "source": [
    "## Question 4\n",
    "- Explain How you will improve the performance of Logistic Regression"
   ]
  },
  {
   "cell_type": "markdown",
   "id": "04df00df",
   "metadata": {},
   "source": [
    "## Question 5\n",
    "- What is Neural Network? (1 Mark)\n",
    "- Explain the architecture of Neural Network (1 Mark)\n",
    "- Explain the working of Neural Network (1 Mark)\n",
    "- How will you improve the performance of Neural Network (4 Mark)\n",
    "- Justify their impact on accuracy and generalization (3 Mark)"
   ]
  },
  {
   "cell_type": "markdown",
   "id": "2c95ccdd",
   "metadata": {},
   "source": [
    "## Question 6\n",
    "- Compare and contrast Convolutional Neural Networks (CNNs) and Recurrent Neural Networks (RNNs) in terms of their architecture, working principles, applications, advantages, and limitations. Provide real-world examples where each network is best suited.\n"
   ]
  },
  {
   "cell_type": "markdown",
   "id": "8c5ee9c5",
   "metadata": {},
   "source": [
    "## Question 7\n",
    "Provide a detailed explanation of the Random Forest algorithm. Describe how it works, highlighting key concepts such as bootstrap aggregation (bagging), decision trees, and feature randomness. Compare the performance of Random Forest with that of a single Decision Tree in terms of accuracy, susceptibility to overfitting, and ease of interpretation. Additionally, mention some real-world scenarios where Random Forest has proven to be effective, and discuss its main advantages and limitations."
   ]
  },
  {
   "cell_type": "markdown",
   "id": "88a9ae18",
   "metadata": {},
   "source": [
    "## Question 8\n",
    "- What is Model Selection?\n",
    "- give 5 exampls of Machine Learning Models\n",
    "- Write any 4 applications for each of those 5 models"
   ]
  },
  {
   "cell_type": "markdown",
   "id": "58772fd7",
   "metadata": {},
   "source": [
    "## Question 9\n",
    "- What are LSTMs?\n",
    "- Explain the architecture of LSTM\n",
    "- Give few applications of LSTM\n",
    "- Give few advantages and disadvantages of LSTM, by providing real world examples\n",
    "- Give a code example of LSTM"
   ]
  },
  {
   "cell_type": "markdown",
   "id": "e4383be2",
   "metadata": {},
   "source": [
    "## Question 10\n",
    "- What are different types of Machine Learning?\n",
    "- Briefly explain the lifecycle of Machine Learning applications\n",
    "- Explain various preprocessing techniques used in Machine Learning"
   ]
  },
  {
   "cell_type": "markdown",
   "id": "35437f24",
   "metadata": {},
   "source": [
    "### Question 11\n",
    "- What is DBSCAN? Write about its working,advantages and applications."
   ]
  },
  {
   "cell_type": "markdown",
   "id": "9246db89",
   "metadata": {},
   "source": [
    "### Question 12\n",
    "- Explain how a Reinforcement Learning Algorithm Works also provide real-world applications where RL is effectively used."
   ]
  },
  {
   "cell_type": "markdown",
   "id": "0eb3ef62",
   "metadata": {},
   "source": [
    "### Question 13\n",
    "- Explain the K-Means clustering algorithm. Describe its step-by-step process, discuss the importance of the parameter 'K', and outline potential advantages and disadvantages of this method. (10 Marks)"
   ]
  },
  {
   "cell_type": "markdown",
   "id": "f624c7a3",
   "metadata": {},
   "source": [
    "### Question 14\n",
    "- Describe Hierarchical Clustering. Compare and contrast the Agglomerative (bottom-up) and Divisive (top-down) approaches. Explain how linkage criteria (e.g., single, complete, average) affect the outcome in agglomerative clustering. (10 Marks)"
   ]
  },
  {
   "cell_type": "markdown",
   "id": "35daaa86",
   "metadata": {},
   "source": [
    "### Question 15\n",
    "- Define Unsupervised Learning and contrast it with Supervised Learning. Briefly explain two distinct types of unsupervised learning tasks mentioned in the module (e.g., Clustering and Dimensionality Reduction) and provide one example algorithm for each. (10 Marks)"
   ]
  },
  {
   "cell_type": "markdown",
   "id": "4a7851c2",
   "metadata": {},
   "source": [
    "### Question 16\n",
    "- What are Autoencoders? Describe their basic structure (encoder and decoder) and the principle of unsupervised learning they employ (reconstruction). Discuss at least two distinct practical applications of Autoencoders mentioned or implied in the module content (e.g., dimensionality reduction, feature learning for other tasks). (10 Marks)"
   ]
  },
  {
   "cell_type": "markdown",
   "id": "22431872",
   "metadata": {},
   "source": [
    "### Question 17\n",
    "- Explain the fundamental principle behind Support Vector Machines (SVM) for classification. Describe the concepts of the separating hyperplane, margin maximization, and support vectors. Briefly explain how SVMs can be extended to handle non-linearly separable data using the kernel trick. (10 Marks)"
   ]
  },
  {
   "cell_type": "markdown",
   "id": "bf2b2c17",
   "metadata": {},
   "source": [
    "### Question 18\n",
    "- Describe the K-Nearest Neighbors (KNN) algorithm. Explain how it classifies a new data point based on its neighbors. Discuss the importance of the parameter 'K' and the choice of a distance metric (e.g., Euclidean distance). What are the main advantages and disadvantages of KNN? (10 Marks)"
   ]
  },
  {
   "cell_type": "markdown",
   "id": "2e389eb5",
   "metadata": {},
   "source": [
    "### Question 19\n",
    "- Explain the Backpropagation algorithm in detail. Describe how it is used to train a Feed-Forward Neural Network and discuss the role of stochastic gradient descent in this process."
   ]
  },
  {
   "cell_type": "markdown",
   "id": "c7a16f38",
   "metadata": {},
   "source": [
    "### Question 20 \n",
    "- Discuss the concepts of regularization and dropout in the context of training neural networks. Explain why these techniques are important and how they help to improve the generalization ability of the model."
   ]
  },
  {
   "cell_type": "markdown",
   "id": "2f185d6e",
   "metadata": {},
   "source": [
    "### Question 21\n",
    "- Describe how neural networks can be applied to investment management. Provide specific examples of tasks where neural networks can be utilized and discuss the potential advantages and challenges of using them in this domain."
   ]
  },
  {
   "cell_type": "markdown",
   "id": "d67a94da",
   "metadata": {},
   "source": [
    "### Question 22\n",
    "- Explain the fundamental architecture of a Perceptron. Describe the process by which it makes a classification decision and discuss its limitations."
   ]
  },
  {
   "cell_type": "markdown",
   "id": "eb012684",
   "metadata": {},
   "source": [
    "### Question 23\n",
    "- \"Create a Python program to categorize objects into predefined multiple classes.\" (Highlights the predefined nature of the classes)"
   ]
  },
  {
   "cell_type": "markdown",
   "id": "b1c2080c",
   "metadata": {},
   "source": [
    "### Question 24\n",
    "-  How would you design a Product recommendation engine.Write python implementation for the same.\n"
   ]
  },
  {
   "cell_type": "markdown",
   "id": "330d3dfe",
   "metadata": {},
   "source": [
    "### Question 25\n",
    "- Discuss the bias-variance trade-off and its implications for choosing an appropriate model."
   ]
  },
  {
   "cell_type": "markdown",
   "id": "f9663d64",
   "metadata": {},
   "source": []
  }
 ],
 "metadata": {
  "language_info": {
   "name": "python"
  }
 },
 "nbformat": 4,
 "nbformat_minor": 5
}
