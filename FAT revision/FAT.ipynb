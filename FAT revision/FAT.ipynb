{
 "cells": [
  {
   "cell_type": "markdown",
   "id": "d852b522",
   "metadata": {},
   "source": [
    "### **Question 1: Breast Cancer Detection**\n",
    "\n",
    "**Dataset:** `breast_cancer.csv`  \n",
    "This dataset includes diagnostic measurements for breast cancer and whether the tumor is malignant or benign.\n",
    "\n",
    "**Columns include (abbreviated):**  \n",
    "- ID  \n",
    "- Diagnosis (M = Malignant, B = Benign)  \n",
    "- Radius, Texture, Perimeter, Area, etc. (various mean values)  \n",
    "- ... and other features  \n",
    "- Target (0 for benign, 1 for malignant – can be derived from 'Diagnosis')\n",
    "\n",
    "**Tasks (Total: 10 Marks):**\n",
    "1. Load the dataset using pandas and display the first five rows. (2 Marks)  \n",
    "2. Display the count of benign and malignant tumors. (2 Marks)  \n",
    "3. Visualize the distribution of the mean radius using a histogram (matplotlib). (2 Marks)  \n",
    "4. Train a Logistic Regression model to classify tumors as benign or malignant using relevant features. (3 Marks)  \n",
    "5. Evaluate the model using accuracy score and print the result. (1 Mark)  \n",
    "\n",
    "---\n",
    "\n"
   ]
  },
  {
   "cell_type": "markdown",
   "id": "3cd82162",
   "metadata": {},
   "source": [
    "\n",
    "### **Question 2: Sentiment Analysis on Amazon Product Reviews**\n",
    "\n",
    "**Dataset:** `amazon_reviews.csv`  \n",
    "This dataset contains product reviews from Amazon and their associated sentiment labels.\n",
    "\n",
    "**Columns:**\n",
    "- **Review** → Contains text of the review written by customers  \n",
    "- **Label** → 1 for Positive sentiment, 0 for Negative sentiment\n",
    "\n",
    "---\n",
    "\n",
    "### **Tasks (Total: 10 Marks):**\n",
    "\n",
    "1. **Load the dataset using pandas and display the first five rows.**  \n",
    "   *(2 Marks)*\n",
    "\n",
    "2. **Perform basic text preprocessing, including:**  \n",
    "   - Converting text to lowercase  \n",
    "   - Removing special characters and punctuation  \n",
    "   - Tokenizing words  \n",
    "   *(3 Marks)*\n",
    "\n",
    "3. **Convert the text into numerical form using TF-IDF Vectorization.**  \n",
    "   *(2 Marks)*\n",
    "\n",
    "4. **Train a Logistic Regression model to classify sentiment (Positive/Negative).**  \n",
    "   *(2 Marks)*\n",
    "\n",
    "5. **Evaluate the model using accuracy score and print the result.**  \n",
    "   *(1 Mark)*\n",
    "\n",
    "---\n",
    "\n",
    "Let me know if you’d like a sample implementation or need help getting the dataset."
   ]
  },
  {
   "cell_type": "markdown",
   "id": "85eb0135",
   "metadata": {},
   "source": [
    "## Question 3\n",
    "- Explain How you will improve the performance of Linear Regression"
   ]
  },
  {
   "cell_type": "markdown",
   "id": "8348289f",
   "metadata": {},
   "source": [
    "## Question 4\n",
    "- Explain How you will improve the performance of Logistic Regression"
   ]
  },
  {
   "cell_type": "markdown",
   "id": "04df00df",
   "metadata": {},
   "source": [
    "## Question 5\n",
    "- What is Neural Network? (1 Mark)\n",
    "- Explain the architecture of Neural Network (1 Mark)\n",
    "- Explain the working of Neural Network (1 Mark)\n",
    "- How will you improve the performance of Neural Network (4 Mark)\n",
    "- Justify their impact on accuracy and generalization (3 Mark)"
   ]
  },
  {
   "cell_type": "markdown",
   "id": "2c95ccdd",
   "metadata": {},
   "source": [
    "## Question 6\n",
    "- Compare and contrast Convolutional Neural Networks (CNNs) and Recurrent Neural Networks (RNNs) in terms of their architecture, working principles, applications, advantages, and limitations. Provide real-world examples where each network is best suited.\n"
   ]
  },
  {
   "cell_type": "markdown",
   "id": "8c5ee9c5",
   "metadata": {},
   "source": [
    "## Question 7\n",
    "Provide a detailed explanation of the Random Forest algorithm. Describe how it works, highlighting key concepts such as bootstrap aggregation (bagging), decision trees, and feature randomness. Compare the performance of Random Forest with that of a single Decision Tree in terms of accuracy, susceptibility to overfitting, and ease of interpretation. Additionally, mention some real-world scenarios where Random Forest has proven to be effective, and discuss its main advantages and limitations."
   ]
  },
  {
   "cell_type": "markdown",
   "id": "88a9ae18",
   "metadata": {},
   "source": [
    "## Question 8\n",
    "- What is Model Selection?\n",
    "- give 5 exampls of Machine Learning Models\n",
    "- Write any 4 applications for each of those 5 models"
   ]
  },
  {
   "cell_type": "markdown",
   "id": "58772fd7",
   "metadata": {},
   "source": [
    "## Question 9\n",
    "- What are LSTMs?\n",
    "- Explain the architecture of LSTM\n",
    "- Give few applications of LSTM\n",
    "- Give few advantages and disadvantages of LSTM, by providing real world examples\n",
    "- Give a code example of LSTM"
   ]
  },
  {
   "cell_type": "markdown",
   "id": "e4383be2",
   "metadata": {},
   "source": [
    "## Question 10\n",
    "- What are different types of Machine Learning?\n",
    "- Briefly explain the lifecycle of Machine Learning applications\n",
    "- Explain various preprocessing techniques used in Machine Learning"
   ]
  },
  {
   "cell_type": "markdown",
   "id": "35437f24",
   "metadata": {},
   "source": [
    "### Question 11\n",
    "- "
   ]
  }
 ],
 "metadata": {
  "language_info": {
   "name": "python"
  }
 },
 "nbformat": 4,
 "nbformat_minor": 5
}
