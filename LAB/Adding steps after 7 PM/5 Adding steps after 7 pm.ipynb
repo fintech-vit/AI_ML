{
  "nbformat": 4,
  "nbformat_minor": 0,
  "metadata": {
    "colab": {
      "provenance": []
    },
    "kernelspec": {
      "name": "python3",
      "display_name": "Python 3"
    },
    "language_info": {
      "name": "python"
    }
  },
  "cells": [
    {
      "cell_type": "markdown",
      "source": [
        "\n",
        "---\n",
        "\n",
        "# Adding 2000 Steps to Tracker Data  \n",
        "\n",
        "## Problem Statement  \n",
        "Lee's fitness tracker runs out of battery every day at 7:00 PM. As a result, it does not record any steps taken after that time. On average, Lee walks **2000 steps** after 7:00 PM. We need to update the step count data to account for these missing steps.  \n"
      ],
      "metadata": {
        "id": "ipwq-XXbrCeV"
      }
    },
    {
      "cell_type": "markdown",
      "source": [
        "\n",
        "## Steps to Solve  \n",
        "\n",
        "### Step 1: Understanding the Data  \n",
        "We assume the step count data is stored in an array (list) format, where each element represents the number of steps taken in a day. Since the tracker stops recording at 7:00 PM, we need to add 2000 steps to each day's total.  \n",
        "\n"
      ],
      "metadata": {
        "id": "NH9Qh_udrPgG"
      }
    },
    {
      "cell_type": "code",
      "source": [
        "steps_per_day = [5000, 7500, 6200, 8000, 9100]"
      ],
      "metadata": {
        "id": "nAOhMnTqrUVp"
      },
      "execution_count": 2,
      "outputs": []
    },
    {
      "cell_type": "markdown",
      "source": [
        "Each value in the list represents the total recorded steps for a given day.  \n"
      ],
      "metadata": {
        "id": "AsgfGMsirck2"
      }
    },
    {
      "cell_type": "markdown",
      "source": [
        "\n",
        "### Step 2: Adding 2000 Steps to Each Day  \n",
        "Since every day's step count is under-reported by 2000 steps, we update the array by adding 2000 to each element.  \n",
        "\n",
        "Using Python, we can achieve this using a list comprehension:  \n"
      ],
      "metadata": {
        "id": "EKnb1_ZVrhxZ"
      }
    },
    {
      "cell_type": "code",
      "source": [
        "updated_steps_per_day = [steps + 2000 for steps in steps_per_day]"
      ],
      "metadata": {
        "id": "h0sel3zrrZft"
      },
      "execution_count": 3,
      "outputs": []
    },
    {
      "cell_type": "markdown",
      "source": [
        "\n",
        "Now, `updated_steps_per_day` contains the corrected step counts.  \n",
        "\n",
        "### Step 3: Verifying the Output  \n",
        "Let’s print the results to confirm the changes:  \n"
      ],
      "metadata": {
        "id": "HbP7IjshrrFM"
      }
    },
    {
      "cell_type": "code",
      "source": [
        "print(\"Original Data:\", steps_per_day)\n",
        "print(\"Updated Data:\", updated_steps_per_day)"
      ],
      "metadata": {
        "colab": {
          "base_uri": "https://localhost:8080/"
        },
        "id": "jDKR9YwQr2Di",
        "outputId": "69e60d05-7ff3-4f43-c86d-548ebc1c8dc8"
      },
      "execution_count": 4,
      "outputs": [
        {
          "output_type": "stream",
          "name": "stdout",
          "text": [
            "Original Data: [5000, 7500, 6200, 8000, 9100]\n",
            "Updated Data: [7000, 9500, 8200, 10000, 11100]\n"
          ]
        }
      ]
    },
    {
      "cell_type": "markdown",
      "source": [
        "Expected output:  \n",
        "\n",
        "```\n",
        "Original Data: [5000, 7500, 6200, 8000, 9100]\n",
        "Updated Data: [7000, 9500, 8200, 10000, 11100]\n",
        "```\n",
        "As expected, each day's step count has increased by 2000.  \n",
        "\n",
        "### Step 4: Edge Cases and Considerations  \n",
        "- **Empty List**: If there are no step records, the function should return an empty list.  \n",
        "- **Negative Values**: If any recorded step count is negative, further investigation would be needed as step counts cannot be negative in a real-world scenario.  \n",
        "- **Data Structure**: This approach assumes a simple list of integers. If the data were stored in a more complex structure (such as a dictionary with timestamps), the solution would need adjustments.  \n",
        "\n",
        "## Conclusion  \n",
        "By adding 2000 steps to each day's recorded data, we ensure that Lee's true activity level is reflected accurately. This approach is simple and efficient, making it easy to implement in real-world applications.  \n",
        "\n",
        "---"
      ],
      "metadata": {
        "id": "pq4A1RiKr8JO"
      }
    }
  ]
}